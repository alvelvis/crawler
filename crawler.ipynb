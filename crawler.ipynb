{
 "cells": [
  {
   "cell_type": "code",
   "execution_count": null,
   "metadata": {},
   "outputs": [],
   "source": [
    "!pip3 install beautifulsoup4"
   ]
  },
  {
   "cell_type": "code",
   "execution_count": 1,
   "metadata": {},
   "outputs": [],
   "source": [
    "import requests\n",
    "from bs4 import BeautifulSoup"
   ]
  },
  {
   "cell_type": "code",
   "execution_count": 42,
   "metadata": {},
   "outputs": [],
   "source": [
    "nome = \"BBC\"\n",
    "busca = \"https://www.bbc.com/portuguese/search/?q=marielle+franco&start=<pagina>\"\n",
    "description = \"BBC News é a seção de Jornalismo dentro da BBC, atuante em TV, rádio e Internet e diversas partes do mundo, inclusive no Brasil.\"\n",
    "lista_noticias = []\n",
    "max_paginas = 2\n",
    "\n",
    "for i in range(max_paginas):\n",
    "    page = requests.get(busca.replace(\"<pagina>\", str(i+1)))\n",
    "    soup = BeautifulSoup(page.text, 'html.parser')\n",
    "    lista_noticias += [x['href'] for x in soup.find_all(class_=\"hard-news-unit__headline-link\")]\n",
    "\n",
    "noticias = []\n",
    "for link in lista_noticias:\n",
    "    page = requests.get(link)\n",
    "    soup = BeautifulSoup(page.text, 'html.parser')\n",
    "    noticias.append({\n",
    "        'Título': soup.find(class_=\"story-body__h1\").text,\n",
    "        'Autor': soup.find(class_='byline__name').text if soup.find(class_='byline__name') else \"\",\n",
    "        'Endereço': link,\n",
    "        'Seção': soup.find(\"meta\", property=\"article:section\")['content'] if soup.find(\"meta\", property=\"article:section\") else \"\",\n",
    "        'Data de publicação': soup.find(class_='date date--v2').text,\n",
    "        'Sobre a mídia': description,\n",
    "        'Lide': soup.find(class_=\"story-body__introduction\").text,\n",
    "        'Texto': soup.find(class_='story-body__inner').get_text(),\n",
    "    })\n",
    "\n",
    "for i, noticia in enumerate(noticias):\n",
    "    with open(\"BBC-\" + str(i+1) + \".txt\", \"w\") as f:\n",
    "        f.write(\"\\n\".join([\"# \" + x + \" = \" + noticia[x] for x in noticia if x != \"Texto\"]) + \"\\n\" + noticia[\"Texto\"])"
   ]
  }
 ],
 "metadata": {
  "kernelspec": {
   "display_name": "Python 3",
   "language": "python",
   "name": "python3"
  },
  "language_info": {
   "codemirror_mode": {
    "name": "ipython",
    "version": 3
   },
   "file_extension": ".py",
   "mimetype": "text/x-python",
   "name": "python",
   "nbconvert_exporter": "python",
   "pygments_lexer": "ipython3",
   "version": "3.6.9"
  }
 },
 "nbformat": 4,
 "nbformat_minor": 4
}
